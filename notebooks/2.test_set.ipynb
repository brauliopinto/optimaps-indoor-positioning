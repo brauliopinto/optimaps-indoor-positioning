{
 "cells": [
  {
   "cell_type": "markdown",
   "id": "2a82fd86",
   "metadata": {},
   "source": [
    "**Building a new dataframe for tests**\n",
    "- It takes the filtered_data.csv file and transforms it into a reduced dataset for tests;\n",
    "- The data is grouped by LABEL and DEVICE simultaneously"
   ]
  },
  {
   "cell_type": "code",
   "execution_count": null,
   "id": "59b7b889",
   "metadata": {},
   "outputs": [],
   "source": [
    "import os\n",
    "import pandas as pd\n",
    "from pathlib import Path\n",
    "\n",
    "# Find project root (goes up from notebooks directory to thesis)\n",
    "project_root = Path(os.path.abspath('')).parent\n",
    "\n",
    "# Construct data path relative to project root\n",
    "data_tests_path = project_root / 'data' / 'filtered_data.csv'\n",
    "\n",
    "# Read the CSV file (raw data)\n",
    "df_filtered = pd.read_csv(data_tests_path)\n",
    "\n",
    "# Group by columns 'LABEL' and 'DEVICE'. The resulting WAP values correspond to the mean of each group, except when it is equal to 100.\n",
    "# Get list of WAP columns\n",
    "wap_columns = [col for col in df_filtered.columns if col.startswith('WAP')]\n",
    "\n",
    "# Define a custom aggregation function\n",
    "def custom_mean(series):\n",
    "    # Filter out values equal to 100\n",
    "    filtered_values = series[series != 100]\n",
    "    # If no values remain after filtering, return 100\n",
    "    # Otherwise, return the mean of the filtered values\n",
    "    return 100 if filtered_values.empty else round(filtered_values.mean(), 2)\n",
    "\n",
    "# Create a dictionary to specify aggregation for each column\n",
    "agg_dict = {}\n",
    "# For WAP columns, use our custom function\n",
    "for col in wap_columns:\n",
    "    agg_dict[col] = custom_mean\n",
    "# For X and Y coordinates, use mean\n",
    "agg_dict['X'] = 'mean'\n",
    "agg_dict['Y'] = 'mean'\n",
    "\n",
    "# Group by 'LABEL' and 'DEVICE' and apply the aggregations\n",
    "df_tests = df_filtered.groupby(['LABEL', 'DEVICE']).agg(agg_dict).reset_index()\n",
    "\n",
    "# Check the resulting DataFrame\n",
    "print(f\"Test set shape: {df_tests.shape}\")\n",
    "print(f\"Number of unique locations: {df_tests['LABEL'].nunique()}\")\n",
    "print(f\"Number of unique devices: {df_tests['DEVICE'].nunique()}\")"
   ]
  },
  {
   "cell_type": "code",
   "execution_count": 2,
   "id": "5bec06e1",
   "metadata": {},
   "outputs": [],
   "source": [
    "# Now, generate the test set CSV file\n",
    "test_set_path = project_root / 'data' / 'test_data.csv'\n",
    "df_tests.to_csv(test_set_path, index=False)"
   ]
  }
 ],
 "metadata": {
  "kernelspec": {
   "display_name": "thesis",
   "language": "python",
   "name": "python3"
  },
  "language_info": {
   "codemirror_mode": {
    "name": "ipython",
    "version": 3
   },
   "file_extension": ".py",
   "mimetype": "text/x-python",
   "name": "python",
   "nbconvert_exporter": "python",
   "pygments_lexer": "ipython3",
   "version": "3.11.11"
  }
 },
 "nbformat": 4,
 "nbformat_minor": 5
}
