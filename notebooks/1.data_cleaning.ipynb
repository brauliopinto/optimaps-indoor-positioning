{
 "cells": [
  {
   "cell_type": "markdown",
   "id": "b5b1df7f",
   "metadata": {},
   "source": [
    "#### 1. RSSI data extraction"
   ]
  },
  {
   "cell_type": "code",
   "execution_count": 16,
   "id": "9323673f",
   "metadata": {},
   "outputs": [],
   "source": [
    "import os\n",
    "import pandas as pd\n",
    "from pathlib import Path\n",
    "\n",
    "# Find project root (goes up from notebooks directory to thesis)\n",
    "project_root = Path(os.path.abspath('')).parent\n",
    "\n",
    "# Construct data path relative to project root\n",
    "data_rssi_path = project_root / 'data' / 'raw_data.csv'\n",
    "data_ap_path = project_root / 'data' / 'AP_crd.csv'\n",
    "\n",
    "# Read the CSV file (raw data)\n",
    "df_raw = pd.read_csv(data_rssi_path)"
   ]
  },
  {
   "cell_type": "markdown",
   "id": "9056e19d",
   "metadata": {},
   "source": [
    "#### 2. Filtering of the data related to the used scenario"
   ]
  },
  {
   "cell_type": "code",
   "execution_count": 17,
   "id": "0c9e7080",
   "metadata": {},
   "outputs": [
    {
     "name": "stdout",
     "output_type": "stream",
     "text": [
      "Original shape: (20004, 27)\n",
      "After column filtering: (14614, 19)\n"
     ]
    }
   ],
   "source": [
    "# Filter the DataFrame to keep only the first 21 columns\n",
    "cols_to_keep = df_raw.columns[:21]\n",
    "df_filtered = df_raw[cols_to_keep]\n",
    "\n",
    "# Exclude some APs that are not needed\n",
    "df_filtered = df_filtered.drop(columns=['WAP103', 'WAP110'])\n",
    "\n",
    "# Exclude some rows that are not needed (representing rooms 7, 8, 9 and bathrooms)\n",
    "bathrooms = [3313, 3315, 3221, 3223, 3225]\n",
    "room_7 = [4911, 4912, 4914, 4931, 4932, 4934, 4951, 4952, 4954, 4971, 4972, 4974]\n",
    "room_8 = [4211, 4213, 4215, 4217, 4231, 4233, 4235, 4237, 4251, 4253, 4255, 4257, 4261, 4263, 4265, 4267]\n",
    "room_9 = [4421, 4423, 4425, 4441, 4443, 4445, 4461, 4463, 4465]\n",
    "hall = [6319, 6329, 6349, 6359, 63111, 63211, 63411, 63511, 63113, 63213, 63115, 63215]\n",
    "\n",
    "# Combine all rooms and areas to exclude into one list\n",
    "rooms_to_exclude = bathrooms + room_7 + room_8 + room_9 + hall\n",
    "\n",
    "# Reference column for filtering: LABEL\n",
    "df_filtered = df_filtered[~df_filtered['LABEL'].isin(rooms_to_exclude)]\n",
    "\n",
    "# Check how many rows were removed\n",
    "print(f\"Original shape: {df_raw.shape}\")\n",
    "print(f\"After column filtering: {df_filtered.shape}\")"
   ]
  },
  {
   "cell_type": "markdown",
   "id": "189dcc8c",
   "metadata": {},
   "source": [
    "##### 3. Row filtering based on count of non-100 values across WAP columns"
   ]
  },
  {
   "cell_type": "code",
   "execution_count": 18,
   "id": "fc609e17",
   "metadata": {},
   "outputs": [
    {
     "name": "stdout",
     "output_type": "stream",
     "text": [
      "After non-100 filtering: (12097, 19)\n"
     ]
    }
   ],
   "source": [
    "# First, get the list of WAP columns we're interested in\n",
    "wap_columns = [col for col in df_filtered.columns if col.startswith('WAP')]\n",
    "\n",
    "# Create a new column that counts how many values are different from '100' in the specified range\n",
    "df_filtered['non_100_count'] = df_filtered[wap_columns].apply(\n",
    "    lambda row: (row != 100).sum(), axis=1\n",
    ")\n",
    "\n",
    "# Filter rows where this count is at least 3\n",
    "df_filtered = df_filtered[df_filtered['non_100_count'] >= 3]\n",
    "\n",
    "# Remove the temporary counting column if you don't need it anymore\n",
    "df_filtered = df_filtered.drop(columns=['non_100_count'])\n",
    "\n",
    "# Print the shape to verify\n",
    "print(f\"After non-100 filtering: {df_filtered.shape}\")\n",
    "\n",
    "# Set \"DEVICE\" and \"LABEL\" columns as categorical\n",
    "df_filtered['DEVICE'] = df_filtered['DEVICE'].astype('category')\n",
    "df_filtered['LABEL'] = df_filtered['LABEL'].astype('category')"
   ]
  },
  {
   "cell_type": "markdown",
   "id": "dd8af4a5",
   "metadata": {},
   "source": [
    "##### 4. Saving Dataframe to CSV in the \"data\" folder"
   ]
  },
  {
   "cell_type": "code",
   "execution_count": 19,
   "id": "845fcceb",
   "metadata": {},
   "outputs": [
    {
     "name": "stdout",
     "output_type": "stream",
     "text": [
      "Filtered data saved to: /home/braulio/thesis/data/filtered_data.csv\n",
      "File size: 0.92 MB\n"
     ]
    }
   ],
   "source": [
    "# Define the output path\n",
    "output_path = project_root / 'data' / 'filtered_data.csv'\n",
    "\n",
    "# Save the filtered DataFrame to CSV\n",
    "df_filtered.to_csv(output_path, index=False)\n",
    "\n",
    "# Verify the file was created\n",
    "print(f\"Filtered data saved to: {output_path}\")\n",
    "print(f\"File size: {os.path.getsize(output_path) / (1024*1024):.2f} MB\")"
   ]
  }
 ],
 "metadata": {
  "kernelspec": {
   "display_name": "thesis",
   "language": "python",
   "name": "python3"
  },
  "language_info": {
   "codemirror_mode": {
    "name": "ipython",
    "version": 3
   },
   "file_extension": ".py",
   "mimetype": "text/x-python",
   "name": "python",
   "nbconvert_exporter": "python",
   "pygments_lexer": "ipython3",
   "version": "3.11.11"
  }
 },
 "nbformat": 4,
 "nbformat_minor": 5
}
